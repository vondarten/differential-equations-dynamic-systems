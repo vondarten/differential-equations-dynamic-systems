{
 "cells": [
  {
   "cell_type": "code",
   "execution_count": 1,
   "id": "0dd0f336",
   "metadata": {},
   "outputs": [],
   "source": [
    "import numpy as np\n",
    "from matplotlib import pyplot as plt"
   ]
  },
  {
   "cell_type": "code",
   "execution_count": 20,
   "id": "ae6e0482",
   "metadata": {},
   "outputs": [],
   "source": [
    "A = np.array([[0.5, 0.5, 0.25], [0.25, 0.0, 0.25], [.25, .5, .5]])"
   ]
  },
  {
   "cell_type": "code",
   "execution_count": 3,
   "id": "6961c726",
   "metadata": {},
   "outputs": [
    {
     "name": "stdout",
     "output_type": "stream",
     "text": [
      "[[0.5  0.5  0.25]\n",
      " [0.25 0.   0.25]\n",
      " [0.25 0.5  0.5 ]]\n"
     ]
    }
   ],
   "source": [
    "print(A)"
   ]
  },
  {
   "cell_type": "code",
   "execution_count": 21,
   "id": "bcbfdd9c",
   "metadata": {},
   "outputs": [],
   "source": [
    "x_today = np.array([[1], [0], [0]])"
   ]
  },
  {
   "cell_type": "code",
   "execution_count": 22,
   "id": "6d75f856",
   "metadata": {},
   "outputs": [],
   "source": [
    "weather_over_time = np.zeros((3, 50))\n",
    "weather_over_time[:, 0] = x_today[:,0]\n",
    "for i in range(50):\n",
    "    x_tomorrow = A@x_today\n",
    "    weather_over_time[:, i] = x_tomorrow[:, 0]\n",
    "    x_today = x_tomorrow"
   ]
  },
  {
   "cell_type": "code",
   "execution_count": 26,
   "id": "6fbadd82",
   "metadata": {},
   "outputs": [
    {
     "data": {
      "image/png": "[encoded data removed]",
      "text/plain": [
       "<Figure size 432x288 with 1 Axes>"
      ]
     },
     "metadata": {
      "needs_background": "light"
     },
     "output_type": "display_data"
    }
   ],
   "source": [
    "plt.plot(weather_over_time.transpose())\n",
    "plt.grid(True)"
   ]
  },
  {
   "cell_type": "code",
   "execution_count": null,
   "id": "4ac1ce64",
   "metadata": {},
   "outputs": [],
   "source": []
  }
 ],
 "metadata": {
  "kernelspec": {
   "display_name": "Python 3 (ipykernel)",
   "language": "python",
   "name": "python3"
  },
  "language_info": {
   "codemirror_mode": {
    "name": "ipython",
    "version": 3
   },
   "file_extension": ".py",
   "mimetype": "text/x-python",
   "name": "python",
   "nbconvert_exporter": "python",
   "pygments_lexer": "ipython3",
   "version": "3.9.7"
  }
 },
 "nbformat": 4,
 "nbformat_minor": 5
}
